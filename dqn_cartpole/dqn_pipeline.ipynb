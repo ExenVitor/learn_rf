{
 "cells": [
  {
   "cell_type": "code",
   "execution_count": 1,
   "id": "eb9e11da",
   "metadata": {},
   "outputs": [],
   "source": [
    "%load_ext autoreload\n",
    "%autoreload 2\n",
    "%matplotlib inline"
   ]
  },
  {
   "cell_type": "code",
   "execution_count": 2,
   "id": "4835faca",
   "metadata": {},
   "outputs": [],
   "source": [
    "import torch\n",
    "from IPython import display\n",
    "import matplotlib.pyplot as plt\n",
    "from itertools import count\n",
    "import datetime as dt"
   ]
  },
  {
   "cell_type": "code",
   "execution_count": 3,
   "id": "b45facc0",
   "metadata": {},
   "outputs": [],
   "source": [
    "from env_factory import EnvFactory\n",
    "from screen_convert import CartPoleScreenConverter\n",
    "from state_gen import SimpleStateGenerator, StackStateGenerator\n",
    "from trainer import DQNTrainer\n",
    "from eval import Evaluator\n",
    "\n",
    "\n",
    "device = torch.device(\"cuda\" if torch.cuda.is_available() else \"cpu\")"
   ]
  },
  {
   "cell_type": "code",
   "execution_count": 4,
   "id": "d28a82e4",
   "metadata": {},
   "outputs": [],
   "source": [
    "def plot_durations(episode_durations: list):\n",
    "    plt.figure(2)\n",
    "    plt.clf()\n",
    "    durations_t = torch.tensor(episode_durations, dtype=torch.float)\n",
    "    plt.title('Training...')\n",
    "    plt.xlabel('Episode')\n",
    "    plt.ylabel('Duration')\n",
    "    plt.plot(durations_t.numpy())\n",
    "    # Take 100 episode averages and plot them too\n",
    "    if len(durations_t) >= 100:\n",
    "        means = durations_t.unfold(0, 100, 1).mean(1).view(-1)\n",
    "        means = torch.cat((torch.zeros(99), means))\n",
    "        plt.plot(means.numpy())\n",
    "    \n",
    "    display.display(plt.gcf())\n",
    "    display.clear_output(wait=True)\n",
    "    \n",
    "    plt.pause(0.001)  # pause a bit so that plots are updated"
   ]
  },
  {
   "cell_type": "code",
   "execution_count": 5,
   "id": "ee26fa61",
   "metadata": {},
   "outputs": [],
   "source": [
    "def episode_end_callback(cur_episode: int, cur_episode_duration: int, episode_durations: list):\n",
    "    plot_durations(episode_durations=episode_durations)"
   ]
  },
  {
   "cell_type": "code",
   "execution_count": 6,
   "id": "fb6875ca",
   "metadata": {
    "pycharm": {
     "name": "#%%\n"
    }
   },
   "outputs": [],
   "source": [
    "RESULT_TAG = \"stack_state_4frames_greyscale_memory50k_episode10k_dpsdecay10k_adam0.0005_noncenter_fc128_2conv16-32_stepupdate1000_gamma0.9_ddqn_nonclip\"\n",
    "\n",
    "NUM_STACK = 4"
   ]
  },
  {
   "cell_type": "code",
   "execution_count": 7,
   "id": "6eb444ef",
   "metadata": {
    "pycharm": {
     "name": "#%%\n"
    }
   },
   "outputs": [],
   "source": [
    "env_factory = EnvFactory(\"CartPole-v1\")"
   ]
  },
  {
   "cell_type": "code",
   "execution_count": 8,
   "id": "987ae7be",
   "metadata": {
    "pycharm": {
     "name": "#%%\n"
    }
   },
   "outputs": [],
   "source": [
    "train_env = env_factory.gen_env(num_stack=NUM_STACK, human_render_mode=False)"
   ]
  },
  {
   "cell_type": "code",
   "execution_count": 9,
   "id": "7c7f56b6",
   "metadata": {
    "pycharm": {
     "name": "#%%\n"
    }
   },
   "outputs": [],
   "source": [
    "screen_converter = CartPoleScreenConverter(resize_min=40, to_greyscale=True, center_cart=False)"
   ]
  },
  {
   "cell_type": "code",
   "execution_count": 10,
   "id": "1af10f54",
   "metadata": {
    "pycharm": {
     "name": "#%%\n"
    }
   },
   "outputs": [],
   "source": [
    "# simple_state_generator = SimpleStateGenerator(screen_converter=CartPoleScreenConverter())\n",
    "stack_state_generator = StackStateGenerator(screen_converter=screen_converter)"
   ]
  },
  {
   "cell_type": "code",
   "execution_count": 11,
   "id": "15cdfd39",
   "metadata": {
    "pycharm": {
     "name": "#%%\n"
    }
   },
   "outputs": [],
   "source": [
    "trainer = DQNTrainer(env=train_env,\n",
    "                     state_generator=stack_state_generator,\n",
    "                     n_actions=train_env.action_space.n,\n",
    "                     device=device,\n",
    "                     memory_size=50000,\n",
    "                     eps_decay_steps=10000,\n",
    "                     use_adam=True,\n",
    "                     lr=0.0005,\n",
    "                     use_ddqn=True,\n",
    "                     target_update_episodes=1000,\n",
    "                     target_update_step_mode=True, \n",
    "                     gamma=0.9)"
   ]
  },
  {
   "cell_type": "code",
   "execution_count": 12,
   "id": "240b41d4",
   "metadata": {},
   "outputs": [
    {
     "name": "stdout",
     "output_type": "stream",
     "text": [
      "==========================================================================================\n",
      "Layer (type:depth-idx)                   Output Shape              Param #\n",
      "==========================================================================================\n",
      "DQN                                      [128, 2]                  --\n",
      "├─Conv2d: 1-1                            [128, 16, 18, 73]         1,616\n",
      "├─BatchNorm2d: 1-2                       [128, 16, 18, 73]         32\n",
      "├─Conv2d: 1-3                            [128, 32, 7, 35]          12,832\n",
      "├─BatchNorm2d: 1-4                       [128, 32, 7, 35]          64\n",
      "├─Linear: 1-5                            [128, 128]                1,003,648\n",
      "├─Linear: 1-6                            [128, 2]                  258\n",
      "==========================================================================================\n",
      "Total params: 1,018,450\n",
      "Trainable params: 1,018,450\n",
      "Non-trainable params: 0\n",
      "Total mult-adds (M): 802.72\n",
      "==========================================================================================\n",
      "Input size (MB): 12.29\n",
      "Forward/backward pass size (MB): 59.25\n",
      "Params size (MB): 4.07\n",
      "Estimated Total Size (MB): 75.61\n",
      "==========================================================================================\n"
     ]
    }
   ],
   "source": [
    "print(trainer.model_info)"
   ]
  },
  {
   "cell_type": "code",
   "execution_count": 13,
   "id": "2a1e7462",
   "metadata": {
    "scrolled": true
   },
   "outputs": [
    {
     "data": {
      "image/png": "[encoded data removed]",
      "text/plain": [
       "<Figure size 432x288 with 1 Axes>"
      ]
     },
     "metadata": {
      "needs_background": "light"
     },
     "output_type": "display_data"
    },
    {
     "name": "stderr",
     "output_type": "stream",
     "text": [
      "\n",
      "KeyboardInterrupt\n",
      "\n"
     ]
    }
   ],
   "source": [
    "trainer.train(num_episodes=10000, episode_end_callback=episode_end_callback)"
   ]
  },
  {
   "cell_type": "code",
   "execution_count": null,
   "id": "dd60349e",
   "metadata": {},
   "outputs": [],
   "source": [
    "policy_net = trainer._policy_net"
   ]
  },
  {
   "cell_type": "code",
   "execution_count": null,
   "id": "04113c9c",
   "metadata": {},
   "outputs": [],
   "source": [
    "eval_env = env_factory.gen_env(num_stack=NUM_STACK, human_render_mode=True)"
   ]
  },
  {
   "cell_type": "code",
   "execution_count": null,
   "id": "27147e14",
   "metadata": {},
   "outputs": [],
   "source": [
    "evaluator = Evaluator(env = eval_env,\n",
    "                     state_generator = stack_state_generator,\n",
    "                     device = device,\n",
    "                     policy_net=policy_net)"
   ]
  },
  {
   "cell_type": "code",
   "execution_count": null,
   "id": "a5592b82",
   "metadata": {},
   "outputs": [],
   "source": [
    "eval_result = evaluator.run()"
   ]
  },
  {
   "cell_type": "code",
   "execution_count": null,
   "id": "9075de72",
   "metadata": {},
   "outputs": [],
   "source": [
    "eval_result.save(name=f\"{dt.datetime.now().strftime('%Y%m%d_%H%M%S')}_{RESULT_TAG}\")"
   ]
  },
  {
   "cell_type": "code",
   "execution_count": null,
   "id": "28968e53",
   "metadata": {},
   "outputs": [],
   "source": []
  }
 ],
 "metadata": {
  "kernelspec": {
   "display_name": "Python 3 (ipykernel)",
   "language": "python",
   "name": "python3"
  },
  "language_info": {
   "codemirror_mode": {
    "name": "ipython",
    "version": 3
   },
   "file_extension": ".py",
   "mimetype": "text/x-python",
   "name": "python",
   "nbconvert_exporter": "python",
   "pygments_lexer": "ipython3",
   "version": "3.8.10"
  }
 },
 "nbformat": 4,
 "nbformat_minor": 5
}